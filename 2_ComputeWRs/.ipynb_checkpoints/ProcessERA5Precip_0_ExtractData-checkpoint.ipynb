{
 "cells": [
  {
   "cell_type": "code",
   "execution_count": 1,
   "id": "ba1f9043-2dac-49eb-99a2-ac469f342771",
   "metadata": {},
   "outputs": [],
   "source": [
    "import glob\n",
    "from datetime import datetime\n",
    "from datetime import timedelta\n",
    "import numpy as np\n",
    "import pandas as pd\n",
    "import xarray as xr\n",
    "import multiprocessing as mp\n",
    "\n",
    "def load_and_organize_precip_file(path):\n",
    "    dataset_temp = xr.open_dataset(path)\n",
    "    dataset_temp = dataset_temp.sortby('latitude')\n",
    "    dataset_temp = dataset_temp.MTPR\n",
    "    min_lon, max_lon, min_lat, max_lat = (180, 330, 20, 80)\n",
    "    dataset_temp = dataset_temp.sel(\n",
    "                longitude=slice(min_lon, max_lon), \n",
    "                latitude=slice(min_lat, max_lat)\n",
    "            )\n",
    "    dataset_temp = dataset_temp.stack(time=('forecast_initial_time', 'forecast_hour'))\n",
    "    dates = pd.to_datetime(np.array([dataset_temp.time.values[i][0] + pd.to_timedelta(dataset_temp.time.values[i][1], unit='h')\\\n",
    "                    for i in range(len(dataset_temp.time.values))]))\n",
    "    data = xr.DataArray(\n",
    "        dataset_temp.transpose('time','latitude','longitude').values,\n",
    "        coords={'time': dates, 'lat': dataset_temp.latitude.values, 'lon': dataset_temp.longitude.values},\n",
    "        dims=['time', 'lat', 'lon'],\n",
    "        attrs=dataset_temp.attrs\n",
    "    )\n",
    "    return data\n",
    "\n",
    "def process_and_save(file):\n",
    "    data_temp = load_and_organize_precip_file(file)\n",
    "    data_temp = data_temp.resample(time='1D').mean()\n",
    "    data_temp = data_temp.to_dataset(name='PrecipitationRate')\n",
    "    output_path = f\"{path_out}PRECIP_{file.split('.')[-2]}.nc\"\n",
    "    data_temp.to_netcdf(output_path)\n",
    "    return output_path"
   ]
  },
  {
   "cell_type": "code",
   "execution_count": 4,
   "id": "1605d1e1-be6f-460f-bede-ba8b97a0fc4c",
   "metadata": {},
   "outputs": [],
   "source": [
    "# Base path where the files are stored\n",
    "path_era5 = '/glade/campaign/collections/rda/data/d633000/e5.oper.fc.sfc.meanflux/'\n",
    "\n",
    "# List to store all the file paths\n",
    "file_paths = []\n",
    "\n",
    "# Loop over the years from 1940 to 2023\n",
    "for year in range(1981, 2021):\n",
    "    pattern = f'{path_era5}{year}*/e5.oper.fc.sfc.meanflux.235_055_mtpr.ll025sc.*.nc'\n",
    "    matched_files = glob.glob(pattern)\n",
    "    file_paths.extend(matched_files)\n",
    "\n",
    "file_paths = np.sort(file_paths)"
   ]
  },
  {
   "cell_type": "code",
   "execution_count": 5,
   "id": "1caf30fa-73f6-4216-ac2b-e4802d9aac6f",
   "metadata": {},
   "outputs": [
    {
     "name": "stdout",
     "output_type": "stream",
     "text": [
      "Processing complete.\n"
     ]
    }
   ],
   "source": [
    "path_out = '/glade/derecho/scratch/jhayron/Data4Predictability/PRECIP_ERA5_Daily/'\n",
    "\n",
    "# Use multiprocessing Pool\n",
    "if __name__ == '__main__':\n",
    "    with mp.Pool(mp.cpu_count()) as pool:\n",
    "        results = pool.map(process_and_save, file_paths)\n",
    "\n",
    "    print(\"Processing complete.\")"
   ]
  },
  {
   "cell_type": "code",
   "execution_count": null,
   "id": "782da816-33bd-4fbb-9626-929645ed1dd0",
   "metadata": {},
   "outputs": [],
   "source": []
  }
 ],
 "metadata": {
  "kernelspec": {
   "display_name": "Python [conda env:cnn_wr]",
   "language": "python",
   "name": "conda-env-cnn_wr-py"
  },
  "language_info": {
   "codemirror_mode": {
    "name": "ipython",
    "version": 3
   },
   "file_extension": ".py",
   "mimetype": "text/x-python",
   "name": "python",
   "nbconvert_exporter": "python",
   "pygments_lexer": "ipython3",
   "version": "3.9.16"
  }
 },
 "nbformat": 4,
 "nbformat_minor": 5
}
