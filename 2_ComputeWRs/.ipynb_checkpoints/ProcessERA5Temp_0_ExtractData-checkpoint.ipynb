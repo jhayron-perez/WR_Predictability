{
 "cells": [
  {
   "cell_type": "code",
   "execution_count": 8,
   "id": "ba1f9043-2dac-49eb-99a2-ac469f342771",
   "metadata": {},
   "outputs": [],
   "source": [
    "import glob\n",
    "from datetime import datetime\n",
    "from datetime import timedelta\n",
    "import numpy as np\n",
    "import pandas as pd\n",
    "import xarray as xr\n",
    "import multiprocessing as mp\n",
    "\n",
    "def load_and_organize_precip_file(path):\n",
    "    dataset_temp = xr.open_dataset(path)\n",
    "    dataset_temp = dataset_temp.sortby('latitude')\n",
    "    dataset_temp = dataset_temp.VAR_2T\n",
    "    min_lon, max_lon, min_lat, max_lat = (180, 330, 20, 80)\n",
    "    dataset_temp = dataset_temp.sel(\n",
    "                longitude=slice(min_lon, max_lon), \n",
    "                latitude=slice(min_lat, max_lat)\n",
    "            )\n",
    "    dates = dataset_temp.time\n",
    "    data = xr.DataArray(\n",
    "        dataset_temp.transpose('time','latitude','longitude').values,\n",
    "        coords={'time': dates, 'lat': dataset_temp.latitude.values, 'lon': dataset_temp.longitude.values},\n",
    "        dims=['time', 'lat', 'lon'],\n",
    "        attrs=dataset_temp.attrs\n",
    "    )\n",
    "    return data\n",
    "\n",
    "def process_and_save(file):\n",
    "    data_temp = load_and_organize_precip_file(file)\n",
    "    data_temp_mean = data_temp.resample(time='1D').mean()\n",
    "    # data_temp_max = data_temp.resample(time='1D').max()\n",
    "    # data_temp_min = data_temp.resample(time='1D').min()\n",
    "    \n",
    "    data_temp_mean = data_temp_mean.to_dataset(name='MeanTemp')\n",
    "    # data_temp_min = data_temp_min.to_dataset(name='MinTemp')\n",
    "    # data_temp_max = data_temp_max.to_dataset(name='MaxTemp')\n",
    "    \n",
    "    data_temp_mean.to_netcdf(f\"{path_out}TMean_{file.split('.')[-2]}.nc\")\n",
    "    # data_temp_max.to_netcdf(f\"{path_out}TMax_{file.split('.')[-2]}.nc\")\n",
    "    # data_temp_min.to_netcdf(f\"{path_out}TMin_{file.split('.')[-2]}.nc\")"
   ]
  },
  {
   "cell_type": "code",
   "execution_count": 9,
   "id": "1605d1e1-be6f-460f-bede-ba8b97a0fc4c",
   "metadata": {},
   "outputs": [],
   "source": [
    "# Base path where the files are stored\n",
    "path_era5 = '/glade/campaign/collections/rda/data/d633000/e5.oper.an.sfc/'\n",
    "\n",
    "# List to store all the file paths\n",
    "file_paths = []\n",
    "\n",
    "# Loop over the years from 1940 to 2023\n",
    "for year in range(1981, 2021):\n",
    "    pattern = f'{path_era5}{year}*/e5.oper.an.sfc.128_167_2t.ll025sc.*.nc'\n",
    "    matched_files = glob.glob(pattern)\n",
    "    file_paths.extend(matched_files)\n",
    "\n",
    "file_paths = np.sort(file_paths)"
   ]
  },
  {
   "cell_type": "code",
   "execution_count": 10,
   "id": "1caf30fa-73f6-4216-ac2b-e4802d9aac6f",
   "metadata": {},
   "outputs": [
    {
     "name": "stdout",
     "output_type": "stream",
     "text": [
      "Processing complete.\n"
     ]
    }
   ],
   "source": [
    "path_out = '/glade/derecho/scratch/jhayron/Data4Predictability/TEMP_ERA5_Daily/'\n",
    "\n",
    "# Use multiprocessing Pool\n",
    "if __name__ == '__main__':\n",
    "    with mp.Pool(mp.cpu_count()) as pool:\n",
    "        results = pool.map(process_and_save, file_paths)\n",
    "\n",
    "    print(\"Processing complete.\")"
   ]
  },
  {
   "cell_type": "code",
   "execution_count": null,
   "id": "ea651835-08c5-461d-86cd-3e43e7899234",
   "metadata": {},
   "outputs": [],
   "source": []
  }
 ],
 "metadata": {
  "kernelspec": {
   "display_name": "Python [conda env:cnn_wr]",
   "language": "python",
   "name": "conda-env-cnn_wr-py"
  },
  "language_info": {
   "codemirror_mode": {
    "name": "ipython",
    "version": 3
   },
   "file_extension": ".py",
   "mimetype": "text/x-python",
   "name": "python",
   "nbconvert_exporter": "python",
   "pygments_lexer": "ipython3",
   "version": "3.9.16"
  }
 },
 "nbformat": 4,
 "nbformat_minor": 5
}
