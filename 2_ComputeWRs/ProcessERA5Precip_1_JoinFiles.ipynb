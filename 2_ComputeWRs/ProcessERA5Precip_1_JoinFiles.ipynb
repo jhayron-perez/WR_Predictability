{
 "cells": [
  {
   "cell_type": "code",
   "execution_count": 1,
   "id": "ba1f9043-2dac-49eb-99a2-ac469f342771",
   "metadata": {},
   "outputs": [],
   "source": [
    "import glob\n",
    "from datetime import datetime\n",
    "from datetime import timedelta\n",
    "import numpy as np\n",
    "import pandas as pd\n",
    "import xarray as xr\n",
    "import multiprocessing as mp"
   ]
  },
  {
   "cell_type": "code",
   "execution_count": 2,
   "id": "121e0306-8b32-462f-867d-1bd2fc5e3064",
   "metadata": {},
   "outputs": [],
   "source": [
    "def weighted_merge_datasets(full_dataset, ds_temp, weight_full=0.25, weight_temp=0.75):\n",
    "    # Ensure dates are aligned properly and handle overlapping dates\n",
    "    combined = xr.concat([full_dataset, ds_temp], dim='time')\n",
    "    \n",
    "    # Identify overlapping dates\n",
    "    overlapping_times = np.intersect1d(full_dataset['time'].values, ds_temp['time'].values)\n",
    "    \n",
    "    # Apply weighted average to overlapping dates\n",
    "    for time in overlapping_times:\n",
    "        mask_full = full_dataset['time'] == time\n",
    "        mask_temp = ds_temp['time'] == time\n",
    "        \n",
    "        combined['PrecipitationRate'].loc[{'time': time}] = (\n",
    "            full_dataset['PrecipitationRate'].sel(time=time) * weight_full + \n",
    "            ds_temp['PrecipitationRate'].sel(time=time) * weight_temp\n",
    "        )\n",
    "    \n",
    "    # Drop duplicate times after handling the overlap\n",
    "    combined = combined.drop_duplicates(dim='time')\n",
    "\n",
    "    return combined"
   ]
  },
  {
   "cell_type": "code",
   "execution_count": 3,
   "id": "1caf30fa-73f6-4216-ac2b-e4802d9aac6f",
   "metadata": {},
   "outputs": [],
   "source": [
    "path_files = '/glade/derecho/scratch/jhayron/Data4Predictability/PRECIP_ERA5_Daily/'\n",
    "files = np.sort(glob.glob(f'{path_files}*.nc'))"
   ]
  },
  {
   "cell_type": "code",
   "execution_count": 4,
   "id": "b888ded5-dad3-466d-a463-c831664966c0",
   "metadata": {
    "scrolled": true
   },
   "outputs": [],
   "source": [
    "full_dataset = xr.open_dataset(files[0])\n",
    "for file in files[1:]:\n",
    "    ds_temp = xr.open_dataset(file)\n",
    "    full_dataset = weighted_merge_datasets(full_dataset, ds_temp)"
   ]
  },
  {
   "cell_type": "code",
   "execution_count": 5,
   "id": "20429c56-a999-4d11-a988-28cc8189b592",
   "metadata": {},
   "outputs": [],
   "source": [
    "full_dataset.to_netcdf('/glade/derecho/scratch/jhayron/Data4Predictability/PRECIP_ERA5_Daily.nc')"
   ]
  },
  {
   "cell_type": "code",
   "execution_count": null,
   "id": "40d16df4-8ebb-4897-91ed-ff7047d893d6",
   "metadata": {},
   "outputs": [],
   "source": []
  }
 ],
 "metadata": {
  "kernelspec": {
   "display_name": "Python [conda env:cnn_wr]",
   "language": "python",
   "name": "conda-env-cnn_wr-py"
  },
  "language_info": {
   "codemirror_mode": {
    "name": "ipython",
    "version": 3
   },
   "file_extension": ".py",
   "mimetype": "text/x-python",
   "name": "python",
   "nbconvert_exporter": "python",
   "pygments_lexer": "ipython3",
   "version": "3.9.16"
  }
 },
 "nbformat": 4,
 "nbformat_minor": 5
}
