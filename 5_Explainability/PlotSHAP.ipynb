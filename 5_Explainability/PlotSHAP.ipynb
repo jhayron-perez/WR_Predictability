{
 "cells": [
  {
   "cell_type": "code",
   "execution_count": 1,
   "id": "334ee6ca-4184-40fd-a28c-17f4db915abc",
   "metadata": {},
   "outputs": [],
   "source": [
    "import numpy as np\n",
    "import xarray as xr\n",
    "import pandas as pd\n",
    "import copy\n",
    "from datetime import datetime, timedelta\n",
    "from sklearn.metrics import balanced_accuracy_score\n",
    "from sklearn.metrics import accuracy_score\n",
    "from sklearn.metrics import f1_score\n",
    "from sklearn.metrics import brier_score_loss\n",
    "from sklearn.metrics import make_scorer\n",
    "from sklearn.utils.class_weight import compute_class_weight\n",
    "import sys\n",
    "import os\n",
    "import joblib\n",
    "import matplotlib.pyplot as plt\n",
    "from sklearn.preprocessing import MinMaxScaler\n",
    "from sklearn.preprocessing import OneHotEncoder\n",
    "import glob \n",
    "\n",
    "\n",
    "from sklearn import datasets, ensemble\n",
    "from sklearn.model_selection import RandomizedSearchCV\n",
    "from sklearn.model_selection import cross_val_score\n",
    "from sklearn.utils import class_weight\n",
    "import json\n",
    "\n",
    "import xgboost as xgb\n",
    "from bayes_opt import BayesianOptimization\n",
    "# import shap\n",
    "\n",
    "import matplotlib.pyplot as plt\n",
    "import matplotlib as mpl\n",
    "import matplotlib.path as mpath\n",
    "import cartopy\n",
    "import cartopy.crs as ccrs\n",
    "import cartopy.feature\n",
    "import cartopy.feature as cfeature\n",
    "import cartopy.io.shapereader as shpreader\n",
    "import cartopy.feature as cf\n",
    "import shapely.geometry as sgeom\n",
    "from cartopy.util import add_cyclic_point"
   ]
  },
  {
   "cell_type": "code",
   "execution_count": 2,
   "id": "fbf4e806-947c-4838-a55e-337a0c3a2388",
   "metadata": {},
   "outputs": [],
   "source": [
    "wr_original_series = pd.read_csv('/glade/work/jhayron/Data4Predictability/WR_Series_v20241226.csv',\\\n",
    "                index_col=0,names=['week0','dist'],skiprows=1,parse_dates=True)\n",
    "# Rolling window for mode\n",
    "rolling_mode = (\n",
    "    wr_original_series.rolling('7d', center=True,min_periods=7)\n",
    "    .apply(lambda x: x.mode()[0] if not x.mode().empty else float('nan'))\n",
    ").shift(-3)\n",
    "\n",
    "# Rolling window for the count of the mode\n",
    "rolling_mode_count = (\n",
    "    wr_original_series.rolling('7d', center=True,min_periods=7)\n",
    "    .apply(lambda x: (x == x.mode()[0]).sum() if not x.mode().empty else 0)\n",
    ").shift(-3)\n",
    "\n",
    "# If duration of WR during week was less than 4, assing NO WR class\n",
    "rolling_mode.loc[rolling_mode_count['week0']<4,'week0'] = 4\n",
    "wr_series_mode = copy.deepcopy(rolling_mode)\n",
    "time_index = pd.to_datetime(wr_series_mode.index).dayofweek\n",
    "wr_series_mode = wr_series_mode.iloc[time_index.isin([0,3])].dropna()\n",
    "wr_series = copy.deepcopy(wr_series_mode)\n",
    "\n",
    "for wk in range(2,10):\n",
    "    series_temp = copy.deepcopy(wr_series[\"week0\"])\n",
    "    series_temp.index = series_temp.index - timedelta(weeks = wk-1)\n",
    "    series_temp.name = f'week{wk-1}'\n",
    "    if wk==2:\n",
    "        df_shifts = pd.concat([pd.DataFrame(wr_series[\"week0\"]),pd.DataFrame(series_temp)],axis=1)  \n",
    "    else:\n",
    "        df_shifts = pd.concat([df_shifts,pd.DataFrame(series_temp)],axis=1)"
   ]
  },
  {
   "cell_type": "code",
   "execution_count": 3,
   "id": "aa0c0cf7-1e5a-4986-9022-afac393c1f87",
   "metadata": {},
   "outputs": [
    {
     "name": "stdout",
     "output_type": "stream",
     "text": [
      "0 IC_SODA\n",
      "1 IT_SODA\n",
      "2 MLD_SODA\n",
      "3 OHC100_SODA\n",
      "4 OHC200_SODA\n",
      "5 OHC300_SODA\n",
      "6 OHC50_SODA\n",
      "7 OHC700_SODA\n",
      "8 OLR_ERA5\n",
      "9 SD_ERA5\n",
      "10 SSH_SODA\n",
      "11 SST_OISSTv2\n",
      "12 SST_SODA\n",
      "13 STL_1m_ERA5\n",
      "14 STL_28cm_ERA5\n",
      "15 STL_7cm_ERA5\n",
      "16 STL_full_ERA5\n",
      "17 SWVL_1m_ERA5\n",
      "18 SWVL_28cm_ERA5\n",
      "19 SWVL_7cm_ERA5\n",
      "20 SWVL_full_ERA5\n",
      "21 U10_ERA5\n",
      "22 U200_ERA5\n",
      "23 Z500_ERA5\n"
     ]
    }
   ],
   "source": [
    "list_files_anoms = np.sort(glob.glob('/glade/derecho/scratch/jhayron/Data4Predictability/WeeklyAnoms_DetrendedStd_v3_2dg/*.nc'))\n",
    "list_vars = [list_files_anoms[i].split('/')[-1][:-3] for i in range(len(list_files_anoms))]\n",
    "\n",
    "for ivar,var in enumerate(list_vars):\n",
    "    print(ivar,var)"
   ]
  },
  {
   "cell_type": "code",
   "execution_count": 4,
   "id": "850657a7-6963-4897-a601-1709f202a544",
   "metadata": {},
   "outputs": [],
   "source": [
    "indices_vars_atm = [8,21,22,23]\n",
    "indices_vars_ocn = [0,1,2,3,4,5,6,7,10,12]\n",
    "indices_vars_lnd = [9,13,14,15,16,17,18,19,20]"
   ]
  },
  {
   "cell_type": "code",
   "execution_count": 5,
   "id": "9adefc5e-c59b-4d76-aa34-033df0491992",
   "metadata": {},
   "outputs": [],
   "source": [
    "all_indices  = np.concatenate([indices_vars_atm,indices_vars_ocn,indices_vars_lnd])"
   ]
  },
  {
   "cell_type": "code",
   "execution_count": 6,
   "id": "914ec456-77ad-4e2c-a0b6-10fa35399757",
   "metadata": {},
   "outputs": [],
   "source": [
    "path_shap = '/glade/derecho/scratch/jhayron/Data4Predictability/ResultsXGBoost/SHAP_Results_v20241226/'\n",
    "path_weekly_anoms = '/glade/derecho/scratch/jhayron/Data4Predictability/WeeklyAnoms_DetrendedStd_v3_2dg/'\n",
    "path_results = '/glade/derecho/scratch/jhayron/Data4Predictability/ResultsXGBoost/Results_v20241226/'"
   ]
  },
  {
   "cell_type": "code",
   "execution_count": 7,
   "id": "f659ca22-dca0-42a8-9f5e-6f8c25cd15ac",
   "metadata": {},
   "outputs": [],
   "source": [
    "path_figs_shap = '/glade/u/home/jhayron/WR_Predictability_v2/5_Explainability/FiguresSHAP/'\n",
    "path_figs_composites = '/glade/u/home/jhayron/WR_Predictability_v2/5_Explainability/FiguresComposites/'"
   ]
  },
  {
   "cell_type": "code",
   "execution_count": 8,
   "id": "ba2f416e-36e2-47f0-9bec-2fd180d69976",
   "metadata": {},
   "outputs": [],
   "source": [
    "wr_names = ['Pacific Trough', 'Pacific Ridge', 'Greenland High', 'Alaskan Ridge', 'No WR']"
   ]
  },
  {
   "cell_type": "code",
   "execution_count": 9,
   "id": "634a5147-d0db-4390-867c-593f1cda15ea",
   "metadata": {},
   "outputs": [],
   "source": [
    "indices_seasons = {'Winter':[12,1,2],\n",
    "                   'Spring':[3,4,5],\n",
    "                   'Summer':[6,7,8],\n",
    "                   'Fall':[9,10,11],\n",
    "                   'All':[1,2,3,4,5,6,7,8,9,10,11,12]}"
   ]
  },
  {
   "cell_type": "code",
   "execution_count": 10,
   "id": "b85569c9-8839-4a85-b510-7f089b263d1b",
   "metadata": {},
   "outputs": [],
   "source": [
    "from scipy.ndimage import gaussian_filter\n",
    "\n",
    "def nan_weighted_filter(data, size, sigma=1):\n",
    "    # Create a mask for valid (non-NaN) values\n",
    "    nan_mask = np.isfinite(data).astype(float)\n",
    "    \n",
    "    # Apply Gaussian filter to both data and the mask\n",
    "    data_filtered = gaussian_filter(data, sigma=sigma, mode=\"wrap\") * size**2\n",
    "    mask_filtered = gaussian_filter(nan_mask, sigma=sigma, mode=\"wrap\") * size**2\n",
    "    \n",
    "    # Compute the weighted mean while ignoring NaNs\n",
    "    return data_filtered / mask_filtered"
   ]
  },
  {
   "cell_type": "code",
   "execution_count": 44,
   "id": "05932ba3-2e5e-4b60-959d-f8a2cde3982f",
   "metadata": {
    "scrolled": true
   },
   "outputs": [
    {
     "name": "stdout",
     "output_type": "stream",
     "text": [
      "OHC200_SODA\n",
      "0.2627281460134486\n"
     ]
    },
    {
     "ename": "NameError",
     "evalue": "name 'aaaa' is not defined",
     "output_type": "error",
     "traceback": [
      "\u001b[0;31m---------------------------------------------------------------------------\u001b[0m",
      "\u001b[0;31mNameError\u001b[0m                                 Traceback (most recent call last)",
      "Cell \u001b[0;32mIn[44], line 58\u001b[0m\n\u001b[1;32m     56\u001b[0m shap_plot \u001b[38;5;241m=\u001b[39m shap_plot\u001b[38;5;241m.\u001b[39misel(time\u001b[38;5;241m=\u001b[39mwhere_correct)\n\u001b[1;32m     57\u001b[0m shap_plot \u001b[38;5;241m=\u001b[39m shap_plot\u001b[38;5;241m.\u001b[39mmean(\u001b[38;5;124m'\u001b[39m\u001b[38;5;124mtime\u001b[39m\u001b[38;5;124m'\u001b[39m)\u001b[38;5;241m.\u001b[39mfillna(\u001b[38;5;241m0\u001b[39m)\n\u001b[0;32m---> 58\u001b[0m \u001b[43maaaa\u001b[49m\n\u001b[1;32m     59\u001b[0m shap_plot \u001b[38;5;241m=\u001b[39m xr\u001b[38;5;241m.\u001b[39mapply_ufunc(\n\u001b[1;32m     60\u001b[0m     nan_weighted_filter,\n\u001b[1;32m     61\u001b[0m     shap_plot,\n\u001b[0;32m   (...)\u001b[0m\n\u001b[1;32m     65\u001b[0m     vectorize\u001b[38;5;241m=\u001b[39m\u001b[38;5;28;01mTrue\u001b[39;00m,\n\u001b[1;32m     66\u001b[0m )\n\u001b[1;32m     67\u001b[0m symmetric_max \u001b[38;5;241m=\u001b[39m np\u001b[38;5;241m.\u001b[39mmax(np\u001b[38;5;241m.\u001b[39mabs(np\u001b[38;5;241m.\u001b[39mmax([\u001b[38;5;28mabs\u001b[39m(np\u001b[38;5;241m.\u001b[39mnanquantile(shap_plot,\u001b[38;5;241m0.001\u001b[39m)),\u001b[38;5;28mabs\u001b[39m(np\u001b[38;5;241m.\u001b[39mnanquantile(shap_plot,\u001b[38;5;241m0.999\u001b[39m))])))\n",
      "\u001b[0;31mNameError\u001b[0m: name 'aaaa' is not defined"
     ]
    },
    {
     "data": {
      "image/png": "[encoded data removed]",
      "text/plain": [
       "<Figure size 1200x800 with 6 Axes>"
      ]
     },
     "metadata": {},
     "output_type": "display_data"
    }
   ],
   "source": [
    "# for ivar in all_indices:\n",
    "# for ivar in [22,23,3,4,5,6,12,0,21,8,9,17,18,13,15]:\n",
    "for ivar in [4]:\n",
    "    try:\n",
    "        os.mkdir(f'{path_figs_shap}{list_vars[ivar]}/')\n",
    "    except:\n",
    "        pass\n",
    "    print(list_vars[ivar])\n",
    "    path_nc_anoms = f'{path_weekly_anoms}{list_vars[ivar]}.nc'\n",
    "    anoms = xr.open_dataset(path_nc_anoms)\n",
    "    anoms = anoms.assign_coords(time=pd.DatetimeIndex(anoms.time).normalize())\n",
    "    var_name_nc = list(anoms.data_vars.keys())[0]\n",
    "    \n",
    "    # for week_out in range(1,9):\n",
    "    for week_out in [3]:\n",
    "        week_out_str = f'week{week_out}'\n",
    "        shap_full = xr.open_dataset(f'{path_shap}/SHAP_{list_vars[ivar]}_{week_out_str}.nc')\n",
    "        var_name_nc = list(shap_full.data_vars.keys())[0]\n",
    "        df_results_full = pd.read_csv(f'{path_results}/Results_{list_vars[ivar]}_{week_out_str}.csv',\n",
    "                                     index_col=0, parse_dates=True)\n",
    "        print(f1_score(df_results_full['y_true'],df_results_full['y_predicted'],average='micro'))\n",
    "        \n",
    "        where_correct = np.where(df_results_full['y_predicted']==df_results_full['y_true'])[0]\n",
    "        shap_plot = shap_full[var_name_nc]\n",
    "        shap_plot = shap_plot.isel(time=where_correct)\n",
    "        shap_plot = shap_plot.mean('time')\n",
    "        # full_std = shap_full[var_name_nc].std('time')\n",
    "        # full_mean = shap_full[var_name_nc].mean('time')\n",
    "        symmetric_max = np.max(np.abs(np.max([abs(np.nanquantile(shap_plot,1)),abs(np.nanquantile(shap_plot,0))]))) #don't touch\n",
    "\n",
    "        # for wr in [0,1,2,4]:\n",
    "        for wr in [0]:\n",
    "            # Create a figure and a set of subplots\n",
    "            fig, axs = plt.subplots(3, 2,figsize=(12,8), subplot_kw={'projection':ccrs.PlateCarree(270)})  # 2x2 grid of subplots\n",
    "            # Flatten the axs array and convert to list\n",
    "            axs_list = axs.flatten().tolist()\n",
    "            counter=0\n",
    "            for iseason, season in enumerate(indices_seasons.keys()):\n",
    "                df_results_temp = copy.deepcopy(df_results_full)\n",
    "                if season!='All':\n",
    "                    where_temp = np.where((df_results_temp.index.month==indices_seasons[season][0])|\\\n",
    "                                    (df_results_temp.index.month==indices_seasons[season][1])|\\\n",
    "                                    (df_results_temp.index.month==indices_seasons[season][2]))[0]\n",
    "                    df_results_temp = df_results_temp.loc[(df_results_temp.index.month==indices_seasons[season][0])|\\\n",
    "                                    (df_results_temp.index.month==indices_seasons[season][1])|\\\n",
    "                                    (df_results_temp.index.month==indices_seasons[season][2])]\n",
    "                    shap_temp = shap_full.isel(time=where_temp)\n",
    "                else:\n",
    "                    shap_temp = copy.deepcopy(shap_full)\n",
    "                where_correct = np.where((df_results_temp['y_predicted']==df_results_temp['y_true'])&\n",
    "                                        (df_results_temp['y_predicted']==wr))[0]\n",
    "                if len(where_correct)==0:\n",
    "                    shap_plot = copy.deepcopy(shap_full[var_name_nc].isel(time=0))*np.nan\n",
    "                else:\n",
    "                    shap_plot = shap_temp[var_name_nc]\n",
    "                    shap_plot = shap_plot.isel(time=where_correct)\n",
    "                    shap_plot = shap_plot.mean('time').fillna(0)\n",
    "                    aaaa\n",
    "                    shap_plot = xr.apply_ufunc(\n",
    "                        nan_weighted_filter,\n",
    "                        shap_plot,\n",
    "                        kwargs={\"size\": 7},  # Adjust the window size\n",
    "                        input_core_dims=[[\"lat\", \"lon\"]],\n",
    "                        output_core_dims=[[\"lat\", \"lon\"]],\n",
    "                        vectorize=True,\n",
    "                    )\n",
    "                    symmetric_max = np.max(np.abs(np.max([abs(np.nanquantile(shap_plot,0.001)),abs(np.nanquantile(shap_plot,0.999))])))\n",
    "                intervals = 42\n",
    "                mini=-symmetric_max\n",
    "                maxi=symmetric_max\n",
    "                bounds=np.linspace(mini,maxi,intervals)\n",
    "                # print(vmax,vmin)\n",
    "                cs = axs_list[counter].contourf(shap_plot.lon,shap_plot.lat,\\\n",
    "                    shap_plot,cmap='bwr',\n",
    "                    transform=ccrs.PlateCarree(),\n",
    "                    vmin=mini,vmax=maxi,extend='both',levels=bounds)\n",
    "                axs_list[counter].coastlines(resolution='110m', color='k', linewidth=0.75, zorder=10)\n",
    "                axs_list[counter].margins(x=0, y=0)\n",
    "                # Add colorbar\n",
    "                cbar = fig.colorbar(cs, ax=axs_list[counter], orientation='vertical', pad=0.02, shrink=0.3)\n",
    "                cbar.set_label(\"Example Data\")\n",
    "                \n",
    "                # Set geographical extent (lon_min, lon_max, lat_min, lat_max)\n",
    "                axs_list[counter].set_extent([100, -30, -30, 90], crs=ccrs.PlateCarree())\n",
    "\n",
    "                axs_list[counter].set_title(f'{season} - # Correct cases: {len(where_correct)}',loc='left')\n",
    "                counter+=1\n",
    "            axs_list[-1].remove()\n",
    "            fig.suptitle(f'{list_vars[ivar]}/Week {week_out} - {wr_names[wr]}')\n",
    "            plt.tight_layout()\n",
    "            plt.savefig(f'{path_figs_shap}{list_vars[ivar]}/SHAP_{list_vars[ivar]}_{week_out_str}_wr{wr}.png',bbox_inches='tight')\n",
    "            plt.close('all')"
   ]
  },
  {
   "cell_type": "code",
   "execution_count": 18,
   "id": "4c553ca0-04fc-4f15-8eb0-6a0378c3b65e",
   "metadata": {},
   "outputs": [
    {
     "data": {
      "text/plain": [
       "<matplotlib.collections.QuadMesh at 0x14b85aa47070>"
      ]
     },
     "execution_count": 18,
     "metadata": {},
     "output_type": "execute_result"
    },
    {
     "data": {
      "image/png": "[encoded data removed]",
      "text/plain": [
       "<Figure size 640x480 with 1 Axes>"
      ]
     },
     "metadata": {},
     "output_type": "display_data"
    }
   ],
   "source": [
    "symmetric_max = np.max(np.abs(np.max([abs(np.nanquantile(shap_plot,0.001)),abs(np.nanquantile(shap_plot,0.999))])))\n",
    "plt.pcolormesh(shap_plot.lon,shap_plot.lat,shap_plot,vmin=-symmetric_max,vmax=symmetric_max,cmap='bwr')\n",
    "\n"
   ]
  },
  {
   "cell_type": "code",
   "execution_count": 45,
   "id": "41febd1c-1c84-4449-a146-6c0f86c0909c",
   "metadata": {},
   "outputs": [],
   "source": [
    "arr_temp = copy.deepcopy(shap_plot.values)\n",
    "q = np.nanquantile(arr_temp[np.where(arr_temp>0)],0.9)\n",
    "lat_scatter = shap_plot.lat.values[np.where(arr_temp>q)[0]]\n",
    "lon_scatter = shap_plot.lon.values[np.where(arr_temp>q)[1]]"
   ]
  },
  {
   "cell_type": "code",
   "execution_count": 49,
   "id": "0ab7cec5-83e7-41a2-bbc2-00061075fde3",
   "metadata": {},
   "outputs": [
    {
     "data": {
      "text/plain": [
       "<matplotlib.collections.PathCollection at 0x14b857f06d60>"
      ]
     },
     "execution_count": 49,
     "metadata": {},
     "output_type": "execute_result"
    },
    {
     "data": {
      "image/png": "[encoded data removed]",
      "text/plain": [
       "<Figure size 640x480 with 1 Axes>"
      ]
     },
     "metadata": {},
     "output_type": "display_data"
    }
   ],
   "source": [
    "plt.pcolormesh(shap_plot.lon,shap_plot.lat,arr_temp,vmin=-symmetric_max,vmax=symmetric_max,cmap='bwr')\n",
    "plt.scatter(lon_scatter,lat_scatter)"
   ]
  },
  {
   "cell_type": "code",
   "execution_count": null,
   "id": "f666b50f-ce77-4ad8-bcee-df989030cc84",
   "metadata": {},
   "outputs": [],
   "source": [
    "len()"
   ]
  },
  {
   "cell_type": "code",
   "execution_count": 42,
   "id": "20936b64-982f-4fca-86f1-40f37d645253",
   "metadata": {},
   "outputs": [],
   "source": []
  },
  {
   "cell_type": "code",
   "execution_count": 43,
   "id": "c85cdb9d-c7c6-46d2-aef2-69e9b5c85161",
   "metadata": {},
   "outputs": [
    {
     "data": {
      "text/plain": [
       "<matplotlib.collections.PathCollection at 0x14b8589d3b20>"
      ]
     },
     "execution_count": 43,
     "metadata": {},
     "output_type": "execute_result"
    },
    {
     "data": {
      "image/png": "[encoded data removed]",
      "text/plain": [
       "<Figure size 640x480 with 1 Axes>"
      ]
     },
     "metadata": {},
     "output_type": "display_data"
    }
   ],
   "source": []
  }
 ],
 "metadata": {
  "kernelspec": {
   "display_name": "Python [conda env:cnn_wr]",
   "language": "python",
   "name": "conda-env-cnn_wr-py"
  },
  "language_info": {
   "codemirror_mode": {
    "name": "ipython",
    "version": 3
   },
   "file_extension": ".py",
   "mimetype": "text/x-python",
   "name": "python",
   "nbconvert_exporter": "python",
   "pygments_lexer": "ipython3",
   "version": "3.9.16"
  }
 },
 "nbformat": 4,
 "nbformat_minor": 5
}
