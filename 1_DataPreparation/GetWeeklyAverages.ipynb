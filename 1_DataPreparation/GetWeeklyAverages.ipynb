{
 "cells": [
  {
   "cell_type": "code",
   "execution_count": 1,
   "id": "826b92fb-d0eb-437a-a3ad-a84ee4d8a030",
   "metadata": {},
   "outputs": [],
   "source": [
    "import xarray as xr\n",
    "import numpy as np\n",
    "import pandas as pd\n",
    "import matplotlib.pyplot as plt\n",
    "import glob\n",
    "import datetime as dt\n",
    "import copy\n",
    "import os\n",
    "from sklearn.linear_model import LinearRegression\n",
    "import random\n",
    "# import dask.array as da"
   ]
  },
  {
   "cell_type": "code",
   "execution_count": 2,
   "id": "962b9a39-405b-4d1d-943b-8f8c147c953b",
   "metadata": {},
   "outputs": [],
   "source": [
    "path_daily_anoms = '/glade/derecho/scratch/jhayron/Data4Predictability/DailyDetrendedStdAnoms_v3/'"
   ]
  },
  {
   "cell_type": "code",
   "execution_count": 3,
   "id": "625d210c-b530-4663-9540-b6f2cd4e2be8",
   "metadata": {},
   "outputs": [],
   "source": [
    "list_datasets_anoms = np.sort(glob.glob(f'{path_daily_anoms}*.nc'))"
   ]
  },
  {
   "cell_type": "code",
   "execution_count": 5,
   "id": "898611cd-1cc4-40f1-b6b4-991e20431cda",
   "metadata": {
    "scrolled": true
   },
   "outputs": [],
   "source": [
    "list_datasets_anoms = np.delete(list_datasets_anoms,-1)"
   ]
  },
  {
   "cell_type": "code",
   "execution_count": 6,
   "id": "ac64dab8-0a9c-4fe1-b8ca-26a7910e823d",
   "metadata": {
    "scrolled": true
   },
   "outputs": [
    {
     "data": {
      "text/plain": [
       "array(['/glade/derecho/scratch/jhayron/Data4Predictability/DailyDetrendedStdAnoms_v3/IC_SODA.nc',\n",
       "       '/glade/derecho/scratch/jhayron/Data4Predictability/DailyDetrendedStdAnoms_v3/IT_SODA.nc',\n",
       "       '/glade/derecho/scratch/jhayron/Data4Predictability/DailyDetrendedStdAnoms_v3/MLD_SODA.nc',\n",
       "       '/glade/derecho/scratch/jhayron/Data4Predictability/DailyDetrendedStdAnoms_v3/OHC100_SODA.nc',\n",
       "       '/glade/derecho/scratch/jhayron/Data4Predictability/DailyDetrendedStdAnoms_v3/OHC200_SODA.nc',\n",
       "       '/glade/derecho/scratch/jhayron/Data4Predictability/DailyDetrendedStdAnoms_v3/OHC300_SODA.nc',\n",
       "       '/glade/derecho/scratch/jhayron/Data4Predictability/DailyDetrendedStdAnoms_v3/OHC50_SODA.nc',\n",
       "       '/glade/derecho/scratch/jhayron/Data4Predictability/DailyDetrendedStdAnoms_v3/OHC700_SODA.nc',\n",
       "       '/glade/derecho/scratch/jhayron/Data4Predictability/DailyDetrendedStdAnoms_v3/OLR_ERA5.nc',\n",
       "       '/glade/derecho/scratch/jhayron/Data4Predictability/DailyDetrendedStdAnoms_v3/SD_ERA5.nc',\n",
       "       '/glade/derecho/scratch/jhayron/Data4Predictability/DailyDetrendedStdAnoms_v3/SSH_SODA.nc',\n",
       "       '/glade/derecho/scratch/jhayron/Data4Predictability/DailyDetrendedStdAnoms_v3/SST_OISSTv2.nc',\n",
       "       '/glade/derecho/scratch/jhayron/Data4Predictability/DailyDetrendedStdAnoms_v3/SST_SODA.nc',\n",
       "       '/glade/derecho/scratch/jhayron/Data4Predictability/DailyDetrendedStdAnoms_v3/STL_1m_ERA5.nc',\n",
       "       '/glade/derecho/scratch/jhayron/Data4Predictability/DailyDetrendedStdAnoms_v3/STL_28cm_ERA5.nc',\n",
       "       '/glade/derecho/scratch/jhayron/Data4Predictability/DailyDetrendedStdAnoms_v3/STL_7cm_ERA5.nc',\n",
       "       '/glade/derecho/scratch/jhayron/Data4Predictability/DailyDetrendedStdAnoms_v3/STL_full_ERA5.nc',\n",
       "       '/glade/derecho/scratch/jhayron/Data4Predictability/DailyDetrendedStdAnoms_v3/SWVL_1m_ERA5.nc',\n",
       "       '/glade/derecho/scratch/jhayron/Data4Predictability/DailyDetrendedStdAnoms_v3/SWVL_28cm_ERA5.nc',\n",
       "       '/glade/derecho/scratch/jhayron/Data4Predictability/DailyDetrendedStdAnoms_v3/SWVL_7cm_ERA5.nc',\n",
       "       '/glade/derecho/scratch/jhayron/Data4Predictability/DailyDetrendedStdAnoms_v3/SWVL_full_ERA5.nc',\n",
       "       '/glade/derecho/scratch/jhayron/Data4Predictability/DailyDetrendedStdAnoms_v3/U10_ERA5.nc',\n",
       "       '/glade/derecho/scratch/jhayron/Data4Predictability/DailyDetrendedStdAnoms_v3/U200_ERA5.nc',\n",
       "       '/glade/derecho/scratch/jhayron/Data4Predictability/DailyDetrendedStdAnoms_v3/Z500_ERA5.nc'],\n",
       "      dtype='<U96')"
      ]
     },
     "execution_count": 6,
     "metadata": {},
     "output_type": "execute_result"
    }
   ],
   "source": [
    "list_datasets_anoms"
   ]
  },
  {
   "cell_type": "code",
   "execution_count": 7,
   "id": "1a3d467b-90e2-4f8c-9b1b-907875b63dc8",
   "metadata": {
    "scrolled": true
   },
   "outputs": [
    {
     "name": "stdout",
     "output_type": "stream",
     "text": [
      "/glade/derecho/scratch/jhayron/Data4Predictability/WeeklyAnoms_DetrendedStd_v3/IC_SODA.nc\n",
      "2024-12-18 19:10:50.615576\n",
      "Frozen({'lon': 720, 'lat': 240, 'time': 4164})\n",
      "/glade/derecho/scratch/jhayron/Data4Predictability/WeeklyAnoms_DetrendedStd_v3/IT_SODA.nc\n",
      "2024-12-18 19:13:24.679912\n",
      "Frozen({'lon': 720, 'lat': 240, 'time': 4164})\n",
      "/glade/derecho/scratch/jhayron/Data4Predictability/WeeklyAnoms_DetrendedStd_v3/MLD_SODA.nc\n",
      "2024-12-18 19:15:58.118618\n",
      "Frozen({'lon': 720, 'lat': 240, 'time': 4164})\n",
      "/glade/derecho/scratch/jhayron/Data4Predictability/WeeklyAnoms_DetrendedStd_v3/OHC100_SODA.nc\n",
      "2024-12-18 19:18:36.703936\n",
      "Frozen({'lon': 720, 'lat': 240, 'time': 4164})\n",
      "/glade/derecho/scratch/jhayron/Data4Predictability/WeeklyAnoms_DetrendedStd_v3/OHC200_SODA.nc\n",
      "2024-12-18 19:21:12.116158\n",
      "Frozen({'lon': 720, 'lat': 240, 'time': 4164})\n",
      "/glade/derecho/scratch/jhayron/Data4Predictability/WeeklyAnoms_DetrendedStd_v3/OHC300_SODA.nc\n",
      "2024-12-18 19:23:50.676312\n",
      "Frozen({'lon': 720, 'lat': 240, 'time': 4164})\n",
      "/glade/derecho/scratch/jhayron/Data4Predictability/WeeklyAnoms_DetrendedStd_v3/OHC50_SODA.nc\n",
      "2024-12-18 19:26:27.579830\n",
      "Frozen({'lon': 720, 'lat': 240, 'time': 4164})\n",
      "/glade/derecho/scratch/jhayron/Data4Predictability/WeeklyAnoms_DetrendedStd_v3/OHC700_SODA.nc\n",
      "2024-12-18 19:29:03.900192\n",
      "Frozen({'lon': 720, 'lat': 240, 'time': 4164})\n",
      "/glade/derecho/scratch/jhayron/Data4Predictability/WeeklyAnoms_DetrendedStd_v3/OLR_ERA5.nc\n",
      "2024-12-18 19:31:45.807316\n",
      "Frozen({'time': 4164, 'lat': 240, 'lon': 720})\n",
      "/glade/derecho/scratch/jhayron/Data4Predictability/WeeklyAnoms_DetrendedStd_v3/SD_ERA5.nc\n",
      "2024-12-18 19:34:32.418934\n",
      "Frozen({'time': 4164, 'lat': 240, 'lon': 720})\n",
      "/glade/derecho/scratch/jhayron/Data4Predictability/WeeklyAnoms_DetrendedStd_v3/SSH_SODA.nc\n",
      "2024-12-18 19:37:19.042826\n",
      "Frozen({'lon': 720, 'lat': 240, 'time': 4164})\n",
      "/glade/derecho/scratch/jhayron/Data4Predictability/WeeklyAnoms_DetrendedStd_v3/SST_OISSTv2.nc\n",
      "2024-12-18 19:39:54.929516\n",
      "Frozen({'time': 4094, 'lat': 240, 'lon': 720})\n",
      "/glade/derecho/scratch/jhayron/Data4Predictability/WeeklyAnoms_DetrendedStd_v3/SST_SODA.nc\n",
      "2024-12-18 19:42:41.455815\n",
      "Frozen({'lon': 720, 'lat': 240, 'time': 4164})\n",
      "/glade/derecho/scratch/jhayron/Data4Predictability/WeeklyAnoms_DetrendedStd_v3/STL_1m_ERA5.nc\n",
      "2024-12-18 19:45:17.194105\n",
      "Frozen({'time': 4164, 'lat': 240, 'lon': 720})\n",
      "/glade/derecho/scratch/jhayron/Data4Predictability/WeeklyAnoms_DetrendedStd_v3/STL_28cm_ERA5.nc\n",
      "2024-12-18 19:48:06.125185\n",
      "Frozen({'time': 4164, 'lat': 240, 'lon': 720})\n",
      "/glade/derecho/scratch/jhayron/Data4Predictability/WeeklyAnoms_DetrendedStd_v3/STL_7cm_ERA5.nc\n",
      "2024-12-18 19:50:51.551739\n",
      "Frozen({'time': 4164, 'lat': 240, 'lon': 720})\n",
      "/glade/derecho/scratch/jhayron/Data4Predictability/WeeklyAnoms_DetrendedStd_v3/STL_full_ERA5.nc\n",
      "2024-12-18 19:53:41.328660\n",
      "Frozen({'time': 4164, 'lat': 240, 'lon': 720})\n",
      "/glade/derecho/scratch/jhayron/Data4Predictability/WeeklyAnoms_DetrendedStd_v3/SWVL_1m_ERA5.nc\n",
      "2024-12-18 19:56:28.483529\n",
      "Frozen({'time': 4164, 'lat': 240, 'lon': 720})\n",
      "/glade/derecho/scratch/jhayron/Data4Predictability/WeeklyAnoms_DetrendedStd_v3/SWVL_28cm_ERA5.nc\n",
      "2024-12-18 19:59:17.885449\n",
      "Frozen({'time': 4164, 'lat': 240, 'lon': 720})\n",
      "/glade/derecho/scratch/jhayron/Data4Predictability/WeeklyAnoms_DetrendedStd_v3/SWVL_7cm_ERA5.nc\n",
      "2024-12-18 20:02:04.257225\n",
      "Frozen({'time': 4164, 'lat': 240, 'lon': 720})\n",
      "/glade/derecho/scratch/jhayron/Data4Predictability/WeeklyAnoms_DetrendedStd_v3/SWVL_full_ERA5.nc\n",
      "2024-12-18 20:04:52.131215\n",
      "Frozen({'time': 4164, 'lat': 240, 'lon': 720})\n",
      "/glade/derecho/scratch/jhayron/Data4Predictability/WeeklyAnoms_DetrendedStd_v3/U10_ERA5.nc\n",
      "2024-12-18 20:07:37.831746\n",
      "Frozen({'lat': 240, 'lon': 720, 'time': 4164})\n",
      "/glade/derecho/scratch/jhayron/Data4Predictability/WeeklyAnoms_DetrendedStd_v3/U200_ERA5.nc\n",
      "2024-12-18 20:10:19.939786\n",
      "Frozen({'lat': 240, 'lon': 720, 'time': 4164})\n",
      "/glade/derecho/scratch/jhayron/Data4Predictability/WeeklyAnoms_DetrendedStd_v3/Z500_ERA5.nc\n",
      "2024-12-18 20:12:59.134429\n",
      "Frozen({'lat': 240, 'lon': 720, 'time': 4164})\n"
     ]
    }
   ],
   "source": [
    "for i_dataset in range(len(list_datasets_anoms)):\n",
    "    path_weekly_anoms = list_datasets_anoms[i_dataset].replace('DailyDetrendedStdAnoms','WeeklyAnoms_DetrendedStd')\n",
    "    print(path_weekly_anoms)\n",
    "    print(dt.datetime.now())\n",
    "    path_anoms = list_datasets_anoms[i_dataset]\n",
    "    anomalies = xr.open_dataset(path_anoms)\n",
    "    var_name_xarray = list(anomalies.data_vars.keys())[0]\n",
    "    # Calculate the weekly rolling mean using Dask\n",
    "    weekly_rolling_mean = anomalies.rolling(time=7, center=True).mean()\n",
    "\n",
    "    # Compute the result and load it into memory as a new Dataset\n",
    "    weekly_rolling_mean = weekly_rolling_mean.compute()\n",
    "    weekly_rolling_mean = weekly_rolling_mean.shift(time=-3) ## EACH LABEL HAS ASSIGNED THE WEEK AHEAD\n",
    "    # weekly_rolling_mean = weekly_rolling_mean.isel(time=get_cold_indx(weekly_rolling_mean))\n",
    "\n",
    "    weekly_rolling_mean['time'] = pd.to_datetime(weekly_rolling_mean['time'].values)\n",
    "\n",
    "    # Filter data for Mondays (dayofweek = 0) and Thursdays (dayofweek = 3)\n",
    "    weekly_rolling_mean = weekly_rolling_mean.sel(time=weekly_rolling_mean['time'].dt.dayofweek.isin([0, 3]))\n",
    "    \n",
    "    weekly_rolling_mean = weekly_rolling_mean.isel(time=((pd.to_datetime(weekly_rolling_mean.time)>='1981-01-05')\\\n",
    "                              &(pd.to_datetime(weekly_rolling_mean.time)<='2020-11-26')))\n",
    "    weekly_rolling_mean = weekly_rolling_mean.transpose('time', 'lat', 'lon')\n",
    "    print(weekly_rolling_mean.dims)\n",
    "    if var_name_xarray == 'MTNLWRF_anomalies':\n",
    "        weekly_rolling_mean[var_name_xarray] = -weekly_rolling_mean[var_name_xarray]\n",
    "    weekly_rolling_mean.to_netcdf(path_weekly_anoms)\n",
    "    del(anomalies)\n",
    "    del(weekly_rolling_mean)"
   ]
  },
  {
   "cell_type": "code",
   "execution_count": 21,
   "id": "1daeecb8-16fe-43db-9ad7-01e2070bdd51",
   "metadata": {},
   "outputs": [],
   "source": []
  },
  {
   "cell_type": "code",
   "execution_count": null,
   "id": "756eb137-4f6c-43ae-8be5-371c4141196f",
   "metadata": {},
   "outputs": [],
   "source": []
  },
  {
   "cell_type": "code",
   "execution_count": null,
   "id": "057300b7-5f70-4cee-b06f-e2159d4412f2",
   "metadata": {},
   "outputs": [],
   "source": []
  },
  {
   "cell_type": "code",
   "execution_count": null,
   "id": "67de4850-dc70-4bcd-94ca-e7fc8878e7bd",
   "metadata": {},
   "outputs": [],
   "source": []
  },
  {
   "cell_type": "code",
   "execution_count": null,
   "id": "4e05322e-e842-423b-8c76-05789317544b",
   "metadata": {},
   "outputs": [],
   "source": []
  },
  {
   "cell_type": "code",
   "execution_count": null,
   "id": "a34695a7-6bed-4e8e-8418-512d38a2c0f3",
   "metadata": {},
   "outputs": [],
   "source": []
  },
  {
   "cell_type": "code",
   "execution_count": null,
   "id": "b7a4a74b-a884-4ef1-a58f-a66470a85946",
   "metadata": {},
   "outputs": [],
   "source": []
  }
 ],
 "metadata": {
  "kernelspec": {
   "display_name": "Python [conda env:cnn_wr]",
   "language": "python",
   "name": "conda-env-cnn_wr-py"
  },
  "language_info": {
   "codemirror_mode": {
    "name": "ipython",
    "version": 3
   },
   "file_extension": ".py",
   "mimetype": "text/x-python",
   "name": "python",
   "nbconvert_exporter": "python",
   "pygments_lexer": "ipython3",
   "version": "3.9.16"
  }
 },
 "nbformat": 4,
 "nbformat_minor": 5
}
